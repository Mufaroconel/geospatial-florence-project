{
 "cells": [
  {
   "cell_type": "markdown",
   "metadata": {
    "id": "KlGknY228b7h"
   },
   "source": [
    "# Objective\n",
    "### Building a geospatial data analysis system that will:\n",
    "\n",
    "- Load US map and Hurricane Florence data\n",
    "\n",
    "- Process and analyze the storm path\n",
    "\n",
    "- Visualize it meaningfully\n",
    "\n",
    "- Produce exportable results (like annotated maps)\n",
    "\n"
   ]
  },
  {
   "cell_type": "code",
   "execution_count": null,
   "metadata": {
    "executionInfo": {
     "elapsed": 2044,
     "status": "ok",
     "timestamp": 1752900012949,
     "user": {
      "displayName": "Mufaro Nyakudya",
      "userId": "06359113267559495094"
     },
     "user_tz": -120
    },
    "id": "osrlOk2z2JP2"
   },
   "outputs": [],
   "source": [
    "import geopandas as gpd\n",
    "import matplotlib.pyplot as plt\n",
    "import sys\n",
    "from pathlib import Path\n",
    "\n",
    "project_root = Path(__file__).parent.parent\n",
    "sys.path.append(str(project_root))\n",
    "\n",
    "# Import custom functions\n",
    "from data_utils import cyclone_json_to_geojson"
   ]
  },
  {
   "cell_type": "code",
   "execution_count": 5,
   "metadata": {
    "colab": {
     "base_uri": "https://localhost:8080/"
    },
    "executionInfo": {
     "elapsed": 19,
     "status": "ok",
     "timestamp": 1752900194595,
     "user": {
      "displayName": "Mufaro Nyakudya",
      "userId": "06359113267559495094"
     },
     "user_tz": -120
    },
    "id": "cVARBec__Eeg",
    "outputId": "363a55bd-c5f5-4b81-df63-4e84b5c70592"
   },
   "outputs": [
    {
     "name": "stdout",
     "output_type": "stream",
     "text": [
      "florence_2018_data.py  florence_2018.json\n"
     ]
    }
   ],
   "source": [
    "! cd /content/drive/MyDrive/githubrepos/geospatial-florence-project-root/geospatial-florence-project/data/ && ls"
   ]
  },
  {
   "cell_type": "code",
   "execution_count": 7,
   "metadata": {
    "executionInfo": {
     "elapsed": 6,
     "status": "ok",
     "timestamp": 1752900977578,
     "user": {
      "displayName": "Mufaro Nyakudya",
      "userId": "06359113267559495094"
     },
     "user_tz": -120
    },
    "id": "631F-Q54CTCu"
   },
   "outputs": [],
   "source": [
    "data_path = \"/content/drive/MyDrive/githubrepos/geospatial-florence-project-root/geospatial-florence-project/data/florence_2018.json\""
   ]
  },
  {
   "cell_type": "code",
   "execution_count": 21,
   "metadata": {
    "executionInfo": {
     "elapsed": 50,
     "status": "ok",
     "timestamp": 1752901735667,
     "user": {
      "displayName": "Mufaro Nyakudya",
      "userId": "06359113267559495094"
     },
     "user_tz": -120
    },
    "id": "dZJch9EIDLLz"
   },
   "outputs": [],
   "source": [
    "path = \"/content/drive/MyDrive/githubrepos/geospatial-florence-project-root/geospatial-florence-project/data/\""
   ]
  },
  {
   "cell_type": "code",
   "execution_count": 25,
   "metadata": {
    "executionInfo": {
     "elapsed": 45,
     "status": "ok",
     "timestamp": 1752902053773,
     "user": {
      "displayName": "Mufaro Nyakudya",
      "userId": "06359113267559495094"
     },
     "user_tz": -120
    },
    "id": "sUAn-t9RCQAI"
   },
   "outputs": [],
   "source": [
    "import json\n",
    "from pathlib import Path\n",
    "\n",
    "def cyclone_json_to_geojson(\n",
    "    input_path: str | Path,\n",
    "    output_path: str | Path,\n",
    "    lat_key: str = \"Lat\",\n",
    "    lon_key: str = \"Long\"\n",
    ") -> Path:\n",
    "    \"\"\"\n",
    "    Convert a cyclone advisory JSON (list of dicts) to a\n",
    "    GeoJSON FeatureCollection of Point geometries.\n",
    "\n",
    "    Parameters\n",
    "    ----------\n",
    "    input_path : str | Path\n",
    "        Path to the raw advisory JSON file you showed.\n",
    "    output_path : str | Path, default \"cyclone_data.geojson\"\n",
    "        Where to write the GeoJSON file.\n",
    "    lat_key, lon_key : str, default \"Lat\", \"Long\"\n",
    "        Keys in each advisory dict that hold latitude and longitude.\n",
    "\n",
    "    Returns\n",
    "    -------\n",
    "    Path\n",
    "        The path to the written GeoJSON file.\n",
    "    \"\"\"\n",
    "    input_path = Path(input_path)\n",
    "    output_path = Path(output_path) / \"florence_2018.geojson\" # Modified this line\n",
    "\n",
    "    # ---------- 1. Load the raw advisory list ----------\n",
    "    with input_path.open() as f:\n",
    "        advisories = json.load(f)\n",
    "\n",
    "    # ---------- 2. Wrap each advisory in a GeoJSON Feature ----------\n",
    "    features = []\n",
    "    for item in advisories:\n",
    "        try:\n",
    "            # Extract coords and convert to float\n",
    "            lat = float(item[lat_key])\n",
    "            lon = float(item[lon_key])\n",
    "\n",
    "            # Build GeoJSON Feature\n",
    "            feature = {\n",
    "                \"type\": \"Feature\",\n",
    "                \"geometry\": {\n",
    "                    \"type\": \"Point\",\n",
    "                    \"coordinates\": [lon, lat]   # GeoJSON = [x, y] = [lon, lat]\n",
    "                },\n",
    "                # Everything *except* Lat/Long becomes properties\n",
    "                \"properties\": {k: v for k, v in item.items() if k not in {lat_key, lon_key}}\n",
    "            }\n",
    "            features.append(feature)\n",
    "        except (KeyError, ValueError):\n",
    "            # Skip rows with missing or malformed coordinates\n",
    "            continue\n",
    "\n",
    "    # ---------- 3. Assemble FeatureCollection ----------\n",
    "    geojson = {\n",
    "        \"type\": \"FeatureCollection\",\n",
    "        \"features\": features\n",
    "    }\n",
    "\n",
    "    # ---------- 4. Write to file ----------\n",
    "    with output_path.open(\"w\") as f:\n",
    "        json.dump(geojson, f)\n",
    "\n",
    "    return output_path"
   ]
  },
  {
   "cell_type": "code",
   "execution_count": 28,
   "metadata": {
    "executionInfo": {
     "elapsed": 32,
     "status": "ok",
     "timestamp": 1752902099329,
     "user": {
      "displayName": "Mufaro Nyakudya",
      "userId": "06359113267559495094"
     },
     "user_tz": -120
    },
    "id": "SF0CBXCQ-1cI"
   },
   "outputs": [],
   "source": [
    "# Convert the file you showed (e.g. \"florence_raw.json\")\n",
    "geojson_file = cyclone_json_to_geojson(input_path=data_path, output_path=path)"
   ]
  }
 ],
 "metadata": {
  "colab": {
   "authorship_tag": "ABX9TyPZAgP+7JXJUAdNsi7T9D+4",
   "mount_file_id": "1mwpapm6zV_AZOoO0gA7CpiOOWomjXd0n",
   "provenance": []
  },
  "kernelspec": {
   "display_name": "Python 3",
   "name": "python3"
  },
  "language_info": {
   "name": "python"
  }
 },
 "nbformat": 4,
 "nbformat_minor": 0
}
